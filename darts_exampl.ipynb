
import matplotlib.pyplot as plt
import numpy as np
import pandas as pd

from darts import TimeSeries
from darts.datasets import AirPassengersDataset

series = AirPassengersDataset().load()
print(series)

series.plot()
series.show()

ser = pd.Series([1, 2, 3, 3])
plot = ser.plot(kind='hist', title="My plot")
ser.plot(kind='hist', title="My plot")
